{
 "cells": [
  {
   "cell_type": "markdown",
   "metadata": {},
   "source": [
    "# Plot SDSS Spectrum"
   ]
  },
  {
   "cell_type": "code",
   "execution_count": 2,
   "metadata": {},
   "outputs": [],
   "source": [
    "from matplotlib import pyplot as plt\n",
    "from astroML.datasets import fetch_sdss_spectrum"
   ]
  },
  {
   "cell_type": "code",
   "execution_count": 3,
   "metadata": {},
   "outputs": [
    {
     "name": "stdout",
     "output_type": "stream",
     "text": [
      "Help on function fetch_sdss_spectrum in module astroML.datasets.sdss_spectrum:\n",
      "\n",
      "fetch_sdss_spectrum(plate, mjd, fiber, data_home=None, download_if_missing=True, cache_to_disk=True)\n",
      "    Fetch an SDSS spectrum from the Data Archive Server\n",
      "    \n",
      "    Parameters\n",
      "    ----------\n",
      "    plate: integer\n",
      "        plate number of desired spectrum\n",
      "    mjd: integer\n",
      "        mean julian date of desired spectrum\n",
      "    fiber: integer\n",
      "        fiber number of desired spectrum\n",
      "    \n",
      "    Other Parameters\n",
      "    ----------------\n",
      "    data_home: string (optional)\n",
      "        directory in which to cache downloaded fits files.  If not\n",
      "        specified, it will be set to ~/astroML_data\n",
      "    download_if_missing: boolean (default = True)\n",
      "        download the fits file if it is not cached locally\n",
      "    cache_to_disk: boolean (default = True)\n",
      "        cache downloaded file to data_home\n",
      "    \n",
      "    Returns\n",
      "    -------\n",
      "    spec: :class:`astroML.tools.SDSSfits` object\n",
      "        An object wrapper for the fits data\n",
      "\n"
     ]
    }
   ],
   "source": [
    "help(fetch_sdss_spectrum)"
   ]
  },
  {
   "cell_type": "markdown",
   "metadata": {},
   "source": [
    "Fetch a single spectrum."
   ]
  },
  {
   "cell_type": "code",
   "execution_count": 37,
   "metadata": {},
   "outputs": [],
   "source": [
    "plate = 1615\n",
    "mjd = 53166\n",
    "fiber = 513"
   ]
  },
  {
   "cell_type": "code",
   "execution_count": 38,
   "metadata": {},
   "outputs": [],
   "source": [
    "spec = fetch_sdss_spectrum(plate, mjd, fiber)"
   ]
  },
  {
   "cell_type": "code",
   "execution_count": 7,
   "metadata": {},
   "outputs": [
    {
     "data": {
      "text/plain": [
       "astroML.datasets.tools.sdss_fits.SDSSfits"
      ]
     },
     "execution_count": 7,
     "metadata": {},
     "output_type": "execute_result"
    }
   ],
   "source": [
    "type(spec)"
   ]
  },
  {
   "cell_type": "markdown",
   "metadata": {},
   "source": [
    "Plot the spectrum."
   ]
  },
  {
   "cell_type": "code",
   "execution_count": 18,
   "metadata": {},
   "outputs": [],
   "source": [
    "wavelength = spec.wavelength()\n",
    "spectrum = spec.spectrum\n",
    "error = spec.error\n",
    "z = spec.z"
   ]
  },
  {
   "cell_type": "code",
   "execution_count": 21,
   "metadata": {},
   "outputs": [
    {
     "data": {
      "text/plain": [
       "array([3795.77097003, 3796.64507922, 3797.51938971, ..., 9217.22098659,\n",
       "       9219.34357452, 9221.46665124])"
      ]
     },
     "execution_count": 21,
     "metadata": {},
     "output_type": "execute_result"
    }
   ],
   "source": [
    "wavelength"
   ]
  },
  {
   "cell_type": "code",
   "execution_count": 22,
   "metadata": {},
   "outputs": [
    {
     "data": {
      "text/plain": [
       "array([127.768, 127.742, 127.716, ..., 221.066, 221.068, 221.07 ],\n",
       "      dtype=float32)"
      ]
     },
     "execution_count": 22,
     "metadata": {},
     "output_type": "execute_result"
    }
   ],
   "source": [
    "spectrum"
   ]
  },
  {
   "cell_type": "code",
   "execution_count": 23,
   "metadata": {},
   "outputs": [
    {
     "data": {
      "text/plain": [
       "array([0., 0., 0., ..., 0., 0., 0.], dtype=float32)"
      ]
     },
     "execution_count": 23,
     "metadata": {},
     "output_type": "execute_result"
    }
   ],
   "source": [
    "error"
   ]
  },
  {
   "cell_type": "code",
   "execution_count": 24,
   "metadata": {},
   "outputs": [
    {
     "data": {
      "text/plain": [
       "0.00657499"
      ]
     },
     "execution_count": 24,
     "metadata": {},
     "output_type": "execute_result"
    }
   ],
   "source": [
    "z"
   ]
  },
  {
   "cell_type": "code",
   "execution_count": 20,
   "metadata": {},
   "outputs": [
    {
     "data": {
      "image/png": "[encoded data removed]",
      "text/plain": [
       "<Figure size 432x288 with 1 Axes>"
      ]
     },
     "metadata": {
      "needs_background": "light"
     },
     "output_type": "display_data"
    }
   ],
   "source": [
    "ax = plt.axes()\n",
    "ax.plot(wavelength, spectrum, '-k', label='spectrum')\n",
    "ax.plot(wavelength, error, '-', color='gray', label='error')\n",
    "\n",
    "ax.legend(loc=4)\n",
    "ax.set_title(\n",
    "    'Plate = %(plate)i, MJD = %(mjd)i, Fiber = %(fiber)i' % locals())\n",
    "\n",
    "ax.text(0.05, 0.95, 'z = %.2f' % z, size=16,\n",
    "        ha='left', va='top', transform=ax.transAxes)\n",
    "\n",
    "ax.set_xlabel(r'$\\lambda (\\AA)$')\n",
    "ax.set_ylabel('Flux')\n",
    "\n",
    "ax.set_ylim(-10, 300)\n",
    "\n",
    "plt.show()"
   ]
  },
  {
   "cell_type": "markdown",
   "metadata": {},
   "source": [
    "Examine HDU list."
   ]
  },
  {
   "cell_type": "code",
   "execution_count": 27,
   "metadata": {},
   "outputs": [
    {
     "data": {
      "text/plain": [
       "astropy.io.fits.hdu.hdulist.HDUList"
      ]
     },
     "execution_count": 27,
     "metadata": {},
     "output_type": "execute_result"
    }
   ],
   "source": [
    "type(spec.hdulist)"
   ]
  },
  {
   "cell_type": "code",
   "execution_count": 28,
   "metadata": {},
   "outputs": [
    {
     "data": {
      "text/plain": [
       "[<astropy.io.fits.hdu.image.PrimaryHDU object at 0x1a20368208>, <astropy.io.fits.hdu.table.BinTableHDU object at 0x1a224acb00>, <astropy.io.fits.hdu.table.BinTableHDU object at 0x1a226c4a58>, <astropy.io.fits.hdu.table.BinTableHDU object at 0x1a225c22b0>, <astropy.io.fits.hdu.table.BinTableHDU object at 0x1a225c2da0>, <astropy.io.fits.hdu.table.BinTableHDU object at 0x1a225827b8>, <astropy.io.fits.hdu.table.BinTableHDU object at 0x1a22582ef0>]"
      ]
     },
     "execution_count": 28,
     "metadata": {},
     "output_type": "execute_result"
    }
   ],
   "source": [
    "spec.hdulist"
   ]
  }
 ],
 "metadata": {
  "kernelspec": {
   "display_name": "astroAI",
   "language": "python",
   "name": "astroai"
  },
  "language_info": {
   "codemirror_mode": {
    "name": "ipython",
    "version": 3
   },
   "file_extension": ".py",
   "mimetype": "text/x-python",
   "name": "python",
   "nbconvert_exporter": "python",
   "pygments_lexer": "ipython3",
   "version": "3.6.8"
  }
 },
 "nbformat": 4,
 "nbformat_minor": 2
}
