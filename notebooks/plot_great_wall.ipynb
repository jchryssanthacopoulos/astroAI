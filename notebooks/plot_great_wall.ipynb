{
 "cells": [
  {
   "cell_type": "markdown",
   "metadata": {},
   "source": [
    "# Plot Great Wall"
   ]
  },
  {
   "cell_type": "code",
   "execution_count": 1,
   "metadata": {},
   "outputs": [],
   "source": [
    "import numpy as np\n",
    "from matplotlib import pyplot as plt\n",
    "\n",
    "from astroML.datasets import fetch_great_wall\n",
    "from astroML.density_estimation import KNeighborsDensity"
   ]
  },
  {
   "cell_type": "code",
   "execution_count": 9,
   "metadata": {},
   "outputs": [
    {
     "name": "stdout",
     "output_type": "stream",
     "text": [
      "Help on function fetch_great_wall in module astroML.datasets.sdss_specgals:\n",
      "\n",
      "fetch_great_wall(data_home=None, download_if_missing=True, xlim=(-375, -175), ylim=(-300, 200), cosmo=None)\n",
      "    Get the 2D SDSS \"Great Wall\" distribution, following Cowan et al 2008\n",
      "    \n",
      "    Parameters\n",
      "    ----------\n",
      "    data_home : optional, default=None\n",
      "        Specify another download and cache folder for the datasets. By default\n",
      "        all scikit learn data is stored in '~/astroML_data' subfolders.\n",
      "    \n",
      "    download_if_missing : optional, default=True\n",
      "        If False, raise a IOError if the data is not locally available\n",
      "        instead of trying to download the data from the source site.\n",
      "    \n",
      "    xlim, ylim : tuples or None\n",
      "        the limits in Mpc of the data: default values are the same as that\n",
      "        used for the plots in Cowan 2008.  If set to None, no cuts will\n",
      "        be performed.\n",
      "    \n",
      "    cosmo : `astropy.cosmology` instance specifying cosmology\n",
      "        to use when generating the sample.  If not provided,\n",
      "        a Flat Lambda CDM model with H0=73.2, Om0=0.27, Tcmb0=0 is used.\n",
      "    \n",
      "    Returns\n",
      "    -------\n",
      "    data : ndarray, shape = (Ngals, 2)\n",
      "        grid of projected (x, y) locations of galaxies in Mpc\n",
      "\n"
     ]
    }
   ],
   "source": [
    "help(fetch_great_wall)"
   ]
  },
  {
   "cell_type": "code",
   "execution_count": 2,
   "metadata": {},
   "outputs": [],
   "source": [
    "X = fetch_great_wall()"
   ]
  },
  {
   "cell_type": "code",
   "execution_count": 6,
   "metadata": {},
   "outputs": [
    {
     "data": {
      "text/plain": [
       "array([[-218.72500532,  144.70044714],\n",
       "       [-282.36393954,  184.18762756],\n",
       "       [-226.5314214 ,  152.25898976],\n",
       "       ...,\n",
       "       [-331.16257746,    2.39399602],\n",
       "       [-329.31285078,    2.84763609],\n",
       "       [-352.75298822,    1.37619588]])"
      ]
     },
     "execution_count": 6,
     "metadata": {},
     "output_type": "execute_result"
    }
   ],
   "source": [
    "X"
   ]
  },
  {
   "cell_type": "code",
   "execution_count": 8,
   "metadata": {},
   "outputs": [
    {
     "data": {
      "image/png": "[encoded data removed]",
      "text/plain": [
       "<Figure size 576x288 with 1 Axes>"
      ]
     },
     "metadata": {
      "needs_background": "light"
     },
     "output_type": "display_data"
    }
   ],
   "source": [
    "fig = plt.figure(figsize=(8, 4))\n",
    "\n",
    "# First plot: scatter the points\n",
    "ax = plt.subplot(111, aspect='equal')\n",
    "ax.scatter(X[:, 1], X[:, 0], s=1, lw=0, c='k')\n",
    "\n",
    "ax.set_xlim(-300, 200)\n",
    "ax.set_ylim(-375, -175)\n",
    "\n",
    "ax.set_xlabel('y (Mpc)')\n",
    "ax.set_ylabel('x (MPC)');"
   ]
  }
 ],
 "metadata": {
  "kernelspec": {
   "display_name": "astroAI",
   "language": "python",
   "name": "astroai"
  },
  "language_info": {
   "codemirror_mode": {
    "name": "ipython",
    "version": 3
   },
   "file_extension": ".py",
   "mimetype": "text/x-python",
   "name": "python",
   "nbconvert_exporter": "python",
   "pygments_lexer": "ipython3",
   "version": "3.6.8"
  }
 },
 "nbformat": 4,
 "nbformat_minor": 2
}
