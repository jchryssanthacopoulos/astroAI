{
 "cells": [
  {
   "cell_type": "markdown",
   "metadata": {},
   "source": [
    "# Plot SDSS Photometric Filters"
   ]
  },
  {
   "cell_type": "code",
   "execution_count": 3,
   "metadata": {},
   "outputs": [],
   "source": [
    "from matplotlib import pyplot as plt\n",
    "\n",
    "from astroML.datasets import fetch_sdss_filter, fetch_vega_spectrum"
   ]
  },
  {
   "cell_type": "markdown",
   "metadata": {},
   "source": [
    "Get Vega reference spectrum."
   ]
  },
  {
   "cell_type": "code",
   "execution_count": 5,
   "metadata": {},
   "outputs": [
    {
     "name": "stdout",
     "output_type": "stream",
     "text": [
      "Help on function fetch_vega_spectrum in module astroML.datasets.sdss_filters:\n",
      "\n",
      "fetch_vega_spectrum(data_home=None, download_if_missing=True)\n",
      "    Loader for Vega reference spectrum\n",
      "    \n",
      "    Parameters\n",
      "    ----------\n",
      "    fname : str\n",
      "        filter name: must be one of 'ugriz'\n",
      "    data_home : optional, default=None\n",
      "        Specify another download and cache folder for the datasets. By default\n",
      "        all scikit learn data is stored in '~/astroML_data' subfolders.\n",
      "    \n",
      "    download_if_missing : optional, default=True\n",
      "        If False, raise a IOError if the data is not locally available\n",
      "        instead of trying to download the data from the source site.\n",
      "    \n",
      "    Returns\n",
      "    -------\n",
      "    data : ndarray\n",
      "        data[0] is the array of wavelength in angstroms\n",
      "        data[1] is the array of fluxes in Jy (F_nu, not F_lambda)\n",
      "\n"
     ]
    }
   ],
   "source": [
    "help(fetch_vega_spectrum)"
   ]
  },
  {
   "cell_type": "code",
   "execution_count": 8,
   "metadata": {},
   "outputs": [],
   "source": [
    "vega_spectrum = fetch_vega_spectrum()"
   ]
  },
  {
   "cell_type": "code",
   "execution_count": 9,
   "metadata": {},
   "outputs": [
    {
     "data": {
      "text/plain": [
       "(2, 1274)"
      ]
     },
     "execution_count": 9,
     "metadata": {},
     "output_type": "execute_result"
    }
   ],
   "source": [
    "vega_spectrum.shape"
   ]
  },
  {
   "cell_type": "code",
   "execution_count": 11,
   "metadata": {},
   "outputs": [],
   "source": [
    "vega_lam = vega_spectrum[0]\n",
    "vega_power = vega_spectrum[1] / 2.1 / vega_spectrum[1].max()"
   ]
  },
  {
   "cell_type": "code",
   "execution_count": 22,
   "metadata": {},
   "outputs": [
    {
     "data": {
      "text/plain": [
       "array([   915.,    925.,    935., ..., 390000., 395000., 400000.])"
      ]
     },
     "execution_count": 22,
     "metadata": {},
     "output_type": "execute_result"
    }
   ],
   "source": [
    "vega_lam"
   ]
  },
  {
   "cell_type": "code",
   "execution_count": 23,
   "metadata": {},
   "outputs": [
    {
     "data": {
      "text/plain": [
       "array([1.52881406e-08, 8.22819204e-08, 1.18176962e-07, ...,\n",
       "       4.13636323e-08, 3.93149989e-08, 3.73805273e-08])"
      ]
     },
     "execution_count": 23,
     "metadata": {},
     "output_type": "execute_result"
    }
   ],
   "source": [
    "vega_power"
   ]
  },
  {
   "cell_type": "markdown",
   "metadata": {},
   "source": [
    "Get SDSS filter profiles."
   ]
  },
  {
   "cell_type": "code",
   "execution_count": 12,
   "metadata": {},
   "outputs": [
    {
     "name": "stdout",
     "output_type": "stream",
     "text": [
      "Help on function fetch_sdss_filter in module astroML.datasets.sdss_filters:\n",
      "\n",
      "fetch_sdss_filter(fname, data_home=None, download_if_missing=True)\n",
      "    Loader for SDSS Filter profiles\n",
      "    \n",
      "    Parameters\n",
      "    ----------\n",
      "    fname : str\n",
      "        filter name: must be one of 'ugriz'\n",
      "    data_home : optional, default=None\n",
      "        Specify another download and cache folder for the datasets. By default\n",
      "        all scikit learn data is stored in '~/astroML_data' subfolders.\n",
      "    \n",
      "    download_if_missing : optional, default=True\n",
      "        If False, raise a IOError if the data is not locally available\n",
      "        instead of trying to download the data from the source site.\n",
      "    \n",
      "    Returns\n",
      "    -------\n",
      "    data : ndarray\n",
      "        data is an array of shape (5, Nlam)\n",
      "        first row: wavelength in angstroms\n",
      "        second row: sensitivity to point source, airmass 1.3\n",
      "        third row: sensitivity to extended source, airmass 1.3\n",
      "        fourth row: sensitivity to extended source, airmass 0.0\n",
      "        fifth row: assumed atmospheric extinction, airmass 1.0\n",
      "\n"
     ]
    }
   ],
   "source": [
    "help(fetch_sdss_filter)"
   ]
  },
  {
   "cell_type": "code",
   "execution_count": 17,
   "metadata": {},
   "outputs": [],
   "source": [
    "filter_names = ['u', 'g', 'r', 'i', 'z']"
   ]
  },
  {
   "cell_type": "code",
   "execution_count": 18,
   "metadata": {},
   "outputs": [],
   "source": [
    "filter_colors = {\n",
    "    'u': 'b',\n",
    "    'g': 'g',\n",
    "    'r': 'r',\n",
    "    'i': 'm',\n",
    "    'z': 'k'\n",
    "}\n",
    "text_pos = {\n",
    "    'u': 3500,\n",
    "    'g': 4600,\n",
    "    'r': 6100,\n",
    "    'i': 7500,\n",
    "    'z': 8800\n",
    "}"
   ]
  },
  {
   "cell_type": "code",
   "execution_count": 19,
   "metadata": {},
   "outputs": [],
   "source": [
    "sdss_filters = {}\n",
    "for fltr in filter_names:\n",
    "    sdss_filters[fltr] = fetch_sdss_filter(fltr)"
   ]
  },
  {
   "cell_type": "code",
   "execution_count": 20,
   "metadata": {},
   "outputs": [
    {
     "data": {
      "text/plain": [
       "(5, 47)"
      ]
     },
     "execution_count": 20,
     "metadata": {},
     "output_type": "execute_result"
    }
   ],
   "source": [
    "sdss_filters['u'].shape"
   ]
  },
  {
   "cell_type": "code",
   "execution_count": 21,
   "metadata": {},
   "outputs": [
    {
     "data": {
      "text/plain": [
       "array([[2.980e+03, 3.005e+03, 3.030e+03, 3.055e+03, 3.080e+03, 3.105e+03,\n",
       "        3.130e+03, 3.155e+03, 3.180e+03, 3.205e+03, 3.230e+03, 3.255e+03,\n",
       "        3.280e+03, 3.305e+03, 3.330e+03, 3.355e+03, 3.380e+03, 3.405e+03,\n",
       "        3.430e+03, 3.455e+03, 3.480e+03, 3.505e+03, 3.530e+03, 3.555e+03,\n",
       "        3.580e+03, 3.605e+03, 3.630e+03, 3.655e+03, 3.680e+03, 3.705e+03,\n",
       "        3.730e+03, 3.755e+03, 3.780e+03, 3.805e+03, 3.830e+03, 3.855e+03,\n",
       "        3.880e+03, 3.905e+03, 3.930e+03, 3.955e+03, 3.980e+03, 4.005e+03,\n",
       "        4.030e+03, 4.055e+03, 4.080e+03, 4.105e+03, 4.130e+03],\n",
       "       [0.000e+00, 1.000e-04, 5.000e-04, 1.300e-03, 2.600e-03, 5.200e-03,\n",
       "        9.300e-03, 1.610e-02, 2.400e-02, 3.230e-02, 4.050e-02, 4.850e-02,\n",
       "        5.610e-02, 6.340e-02, 7.000e-02, 7.560e-02, 8.030e-02, 8.480e-02,\n",
       "        8.830e-02, 9.170e-02, 9.590e-02, 1.001e-01, 1.029e-01, 1.044e-01,\n",
       "        1.053e-01, 1.063e-01, 1.075e-01, 1.085e-01, 1.084e-01, 1.064e-01,\n",
       "        1.024e-01, 9.660e-02, 8.870e-02, 7.870e-02, 6.720e-02, 5.490e-02,\n",
       "        4.130e-02, 2.680e-02, 1.450e-02, 7.500e-03, 4.200e-03, 2.200e-03,\n",
       "        1.000e-03, 6.000e-04, 4.000e-04, 2.000e-04, 0.000e+00],\n",
       "       [0.000e+00, 1.000e-04, 5.000e-04, 1.300e-03, 2.600e-03, 5.200e-03,\n",
       "        9.300e-03, 1.610e-02, 2.400e-02, 3.230e-02, 4.050e-02, 4.850e-02,\n",
       "        5.610e-02, 6.340e-02, 7.000e-02, 7.560e-02, 8.030e-02, 8.480e-02,\n",
       "        8.830e-02, 9.170e-02, 9.590e-02, 1.001e-01, 1.029e-01, 1.044e-01,\n",
       "        1.053e-01, 1.063e-01, 1.075e-01, 1.085e-01, 1.084e-01, 1.064e-01,\n",
       "        1.024e-01, 9.660e-02, 8.870e-02, 7.870e-02, 6.720e-02, 5.490e-02,\n",
       "        4.130e-02, 2.680e-02, 1.450e-02, 7.500e-03, 4.200e-03, 2.200e-03,\n",
       "        1.000e-03, 6.000e-04, 4.000e-04, 2.000e-04, 0.000e+00],\n",
       "       [0.000e+00, 1.400e-03, 7.100e-03, 1.270e-02, 1.980e-02, 3.140e-02,\n",
       "        4.640e-02, 6.290e-02, 7.940e-02, 9.490e-02, 1.093e-01, 1.229e-01,\n",
       "        1.352e-01, 1.458e-01, 1.545e-01, 1.617e-01, 1.679e-01, 1.737e-01,\n",
       "        1.786e-01, 1.819e-01, 1.842e-01, 1.860e-01, 1.870e-01, 1.868e-01,\n",
       "        1.862e-01, 1.858e-01, 1.853e-01, 1.841e-01, 1.812e-01, 1.754e-01,\n",
       "        1.669e-01, 1.558e-01, 1.419e-01, 1.247e-01, 1.054e-01, 8.510e-02,\n",
       "        6.340e-02, 4.050e-02, 2.160e-02, 1.100e-02, 6.200e-03, 3.200e-03,\n",
       "        1.500e-03, 8.000e-04, 6.000e-04, 3.000e-04, 0.000e+00],\n",
       "       [7.270e-02, 9.920e-02, 1.308e-01, 1.673e-01, 2.075e-01, 2.470e-01,\n",
       "        2.862e-01, 3.444e-01, 3.920e-01, 4.300e-01, 4.585e-01, 4.817e-01,\n",
       "        5.007e-01, 5.189e-01, 5.351e-01, 5.486e-01, 5.581e-01, 5.669e-01,\n",
       "        5.727e-01, 5.812e-01, 5.959e-01, 6.112e-01, 6.221e-01, 6.294e-01,\n",
       "        6.350e-01, 6.406e-01, 6.476e-01, 6.553e-01, 6.631e-01, 6.702e-01,\n",
       "        6.763e-01, 6.815e-01, 6.863e-01, 6.912e-01, 6.965e-01, 7.023e-01,\n",
       "        7.088e-01, 7.158e-01, 7.235e-01, 7.315e-01, 7.393e-01, 7.464e-01,\n",
       "        7.526e-01, 7.581e-01, 7.631e-01, 7.680e-01, 7.727e-01]])"
      ]
     },
     "execution_count": 21,
     "metadata": {},
     "output_type": "execute_result"
    }
   ],
   "source": [
    "sdss_filters['u']"
   ]
  },
  {
   "cell_type": "code",
   "execution_count": 29,
   "metadata": {},
   "outputs": [
    {
     "data": {
      "image/png": "[encoded data removed]",
      "text/plain": [
       "<Figure size 432x288 with 1 Axes>"
      ]
     },
     "metadata": {
      "needs_background": "light"
     },
     "output_type": "display_data"
    }
   ],
   "source": [
    "text_kwargs = dict(fontsize=20, ha='center', va='center', alpha=0.5)\n",
    "\n",
    "fig = plt.figure()\n",
    "ax = fig.add_subplot(111)\n",
    "\n",
    "ax.plot(vega_lam, vega_power, '-k', lw=2)\n",
    "\n",
    "for fltr in filter_names:\n",
    "    ax.fill(\n",
    "        sdss_filters[fltr][0], sdss_filters[fltr][1],\n",
    "        ec=filter_colors[fltr], fc=filter_colors[fltr], alpha=0.4)\n",
    "    ax.text(text_pos[fltr], 0.02, fltr, color=filter_colors[fltr], **text_kwargs)\n",
    "\n",
    "ax.set_xlim(3000, 11000)\n",
    "ax.set_title('SDSS Filters and Reference Spectrum')\n",
    "ax.set_xlabel('Wavelength (Angstroms)')\n",
    "ax.set_ylabel('normalized flux / filter transmission')\n",
    "\n",
    "plt.show()"
   ]
  }
 ],
 "metadata": {
  "kernelspec": {
   "display_name": "astroAI",
   "language": "python",
   "name": "astroai"
  },
  "language_info": {
   "codemirror_mode": {
    "name": "ipython",
    "version": 3
   },
   "file_extension": ".py",
   "mimetype": "text/x-python",
   "name": "python",
   "nbconvert_exporter": "python",
   "pygments_lexer": "ipython3",
   "version": "3.6.8"
  }
 },
 "nbformat": 4,
 "nbformat_minor": 2
}
